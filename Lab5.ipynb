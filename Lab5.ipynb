{
 "cells": [
  {
   "cell_type": "markdown",
   "id": "db4b50f0",
   "metadata": {
    "id": "db4b50f0"
   },
   "source": [
    "# Лабораторная работа №5\n",
    "## Выполнил студент группы БПИ-2303 Гавриленко Владислав"
   ]
  },
  {
   "cell_type": "markdown",
   "id": "annual-symbol",
   "metadata": {
    "id": "annual-symbol"
   },
   "source": [
    "### Оглавление\n",
    "1. [Задание 1](#Задание-№1)\n",
    "2. [Задание 2](#Задание-№2)\n",
    "4. [Вывод](#Вывод)"
   ]
  },
  {
   "cell_type": "markdown",
   "id": "independent-spirit",
   "metadata": {
    "id": "independent-spirit"
   },
   "source": [
    "> Дополнительные модули, использованные при выполнение лабораторной"
   ]
  },
  {
   "cell_type": "code",
   "execution_count": null,
   "id": "4839be2b",
   "metadata": {
    "id": "4839be2b"
   },
   "outputs": [],
   "source": [
    "# Необходим при замере скорости выполнения кода\n",
    "from datetime import datetime as t\n",
    "# Нужен для создания словаря в алг. Бойера-Мура\n",
    "from collections import defaultdict"
   ]
  },
  {
   "cell_type": "markdown",
   "id": "inclusive-motorcycle",
   "metadata": {
    "id": "inclusive-motorcycle"
   },
   "source": [
    "### Задание №1\n",
    "Реализовать методы поиска подстроки в строке. Добавить возможность ввода строки и подстроки с клавиатуры. Предусмотреть возможность существования пробела. Реализовать возможность выбора опции чувствительности или нечувствительности к регистру. Оценить время работы каждого алгоритма поиска и сравнить его со временем работы стандартной функции поиска, используемой в выбранном языке программирования."
   ]
  },
  {
   "cell_type": "markdown",
   "id": "interracial-communication",
   "metadata": {
    "id": "interracial-communication"
   },
   "source": [
    "#### Алгоритм Кнута-Морриса-Пратта"
   ]
  },
  {
   "cell_type": "code",
   "execution_count": 1,
   "id": "presidential-level",
   "metadata": {
    "id": "presidential-level"
   },
   "outputs": [
    {
     "name": "stdout",
     "output_type": "stream",
     "text": [
      "Результат поиска (позиции): [40, 83]\n",
      "Время выполнения: 0.000111 секунд\n"
     ]
    }
   ],
   "source": [
    "from datetime import datetime as t\n",
    "\n",
    "def kmp_search(text, pattern, case_sensitive=True):\n",
    "    if not case_sensitive:\n",
    "        text, pattern = text.lower(), pattern.lower()\n",
    "\n",
    "    def compute_lps(pattern):\n",
    "        lps = [0] * len(pattern)\n",
    "        j = 0  \n",
    "        i = 1  \n",
    "        while i < len(pattern):\n",
    "            if pattern[i] == pattern[j]:\n",
    "                j += 1\n",
    "                lps[i] = j\n",
    "                i += 1\n",
    "            else:\n",
    "                if j != 0:\n",
    "                    j = lps[j - 1]\n",
    "                else:\n",
    "                    lps[i] = 0\n",
    "                    i += 1\n",
    "        return lps\n",
    "\n",
    "    lps = compute_lps(pattern)\n",
    "    i = j = 0  \n",
    "    positions = []  \n",
    "\n",
    "    while i < len(text):\n",
    "        if pattern[j] == text[i]:\n",
    "            i += 1\n",
    "            j += 1\n",
    "            if j == len(pattern):\n",
    "                positions.append(i - j)\n",
    "                j = lps[j - 1]\n",
    "        else:\n",
    "            if j != 0:\n",
    "                j = lps[j - 1]\n",
    "            else:\n",
    "                i += 1\n",
    "    return positions\n",
    "\n",
    "text = input(\"Введите строку: \")\n",
    "pattern = input(\"Введите подстроку: \")\n",
    "case_sensitive = input(\"Учитывать регистр? (да/нет): \").strip().lower() == \"да\"\n",
    "\n",
    "start = t.now()\n",
    "result = kmp_search(text, pattern, case_sensitive)\n",
    "end = t.now()\n",
    "\n",
    "print(\"Результат поиска (позиции):\", result)\n",
    "print(\"Время выполнения:\", (end - start).total_seconds(), \"секунд\")\n"
   ]
  },
  {
   "cell_type": "markdown",
   "id": "downtown-option",
   "metadata": {
    "id": "downtown-option"
   },
   "source": [
    "#### Упрощенный алгоритм Бойера-Мура"
   ]
  },
  {
   "cell_type": "code",
   "execution_count": 3,
   "id": "respective-reggae",
   "metadata": {
    "id": "respective-reggae"
   },
   "outputs": [
    {
     "name": "stdout",
     "output_type": "stream",
     "text": [
      "Результат поиска (позиции): [56]\n",
      "Время выполнения: 9.5e-05 секунд\n"
     ]
    }
   ],
   "source": [
    "from collections import defaultdict\n",
    "from datetime import datetime as t\n",
    "\n",
    "def boyer_moore_search(text, pattern, case_sensitive=True):\n",
    "    if not case_sensitive:\n",
    "        text, pattern = text.lower(), pattern.lower()\n",
    "\n",
    "    def build_bad_char_table(pattern):\n",
    "        bad_char = defaultdict(lambda: len(pattern))\n",
    "        for i in range(len(pattern) - 1):\n",
    "            bad_char[pattern[i]] = len(pattern) - 1 - i\n",
    "        return bad_char\n",
    "\n",
    "    bad_char = build_bad_char_table(pattern)\n",
    "    positions = []\n",
    "    i = 0\n",
    "\n",
    "    while i <= len(text) - len(pattern):\n",
    "        j = len(pattern) - 1\n",
    "        while j >= 0 and pattern[j] == text[i + j]:\n",
    "            j -= 1\n",
    "        if j < 0:\n",
    "            positions.append(i)\n",
    "            i += len(pattern)\n",
    "        else:\n",
    "            i += bad_char[text[i + j]]\n",
    "\n",
    "    return positions\n",
    "\n",
    "text = input(\"Введите строку: \")\n",
    "pattern = input(\"Введите подстроку: \")\n",
    "case_sensitive = input(\"Учитывать регистр? (да/нет): \").strip().lower() == \"да\"\n",
    "\n",
    "start = t.now()\n",
    "result = boyer_moore_search(text, pattern, case_sensitive)\n",
    "end = t.now()\n",
    "\n",
    "print(\"Результат поиска (позиции):\", result)\n",
    "print(\"Время выполнения:\", (end - start).total_seconds(), \"секунд\")\n"
   ]
  },
  {
   "cell_type": "markdown",
   "id": "hybrid-memorial",
   "metadata": {
    "id": "hybrid-memorial"
   },
   "source": [
    "### Задание №2\n",
    "Написать программу, определяющую, является ли данное\n",
    "расположение «решаемым», то есть можно ли из него за конечное число\n",
    "шагов перейти к правильному. Если это возможно, то необходимо найти хотя\n",
    "бы одно решение - последовательность движений, после которой числа будут\n",
    "расположены в правильном порядке.\n",
    "#### Входные данные: массив чисел, представляющий собой расстановку в\n",
    "Порядке «слева направо, сверху вниз». Число 0 обозначает пустое поле.\n",
    "Например, массив [1, 2, 3, 4, 5, 6, 7, 8, 9, 10, 11, 12, 13, 14, 15, 0] представляет\n",
    "собой «решенную» позицию элементов.\n",
    "#### Выходные данные: если решения нет, то функция должна вернуть\n",
    "Пустой массив []. Если решение есть, то необходимо представить решение —\n",
    "для каждого шага записывается номер передвигаемого на данном шаге\n",
    "элемента. "
   ]
  },
  {
   "cell_type": "code",
   "execution_count": 9,
   "id": "eleven-generic",
   "metadata": {
    "id": "eleven-generic"
   },
   "outputs": [
    {
     "name": "stdout",
     "output_type": "stream",
     "text": [
      "Решение отсутствует.\n"
     ]
    }
   ],
   "source": [
    "from collections import deque\n",
    "\n",
    "def is_solvable(puzzle):\n",
    "    inv_count = sum(\n",
    "        1\n",
    "        for i in range(len(puzzle))\n",
    "        for j in range(i + 1, len(puzzle))\n",
    "        if puzzle[i] and puzzle[j] and puzzle[i] > puzzle[j]\n",
    "    )\n",
    "    return inv_count % 2 == 0\n",
    "\n",
    "def get_neighbors(state):\n",
    "    neighbors = []\n",
    "    zero_index = state.index(0)\n",
    "    row, col = divmod(zero_index, 4)\n",
    "    moves = {\n",
    "        \"up\": (row - 1, col),\n",
    "        \"down\": (row + 1, col),\n",
    "        \"left\": (row, col - 1),\n",
    "        \"right\": (row, col + 1),\n",
    "    }\n",
    "    for move, (r, c) in moves.items():\n",
    "        if 0 <= r < 4 and 0 <= c < 4:\n",
    "            new_state = state[:]\n",
    "            swap_idx = r * 4 + c\n",
    "            new_state[zero_index], new_state[swap_idx] = new_state[swap_idx], new_state[zero_index]\n",
    "            neighbors.append((new_state, new_state[zero_index]))\n",
    "    return neighbors\n",
    "\n",
    "def solve_puzzle(start_state):\n",
    "    goal_state = list(range(1, 16)) + [0]\n",
    "    if not is_solvable(start_state):\n",
    "        return []\n",
    "\n",
    "    queue = deque([(start_state, [])])\n",
    "    visited = set()\n",
    "    visited.add(tuple(start_state))\n",
    "\n",
    "    while queue:\n",
    "        state, path = queue.popleft()\n",
    "        if state == goal_state:\n",
    "            return path\n",
    "\n",
    "        for new_state, moved_tile in get_neighbors(state):\n",
    "            state_tuple = tuple(new_state)\n",
    "            if state_tuple not in visited:\n",
    "                visited.add(state_tuple)\n",
    "                queue.append((new_state, path + [moved_tile]))\n",
    "\n",
    "    return []\n",
    "\n",
    "puzzle = list(map(int, input(\"Введите 16 чисел через пробел: \").split()))\n",
    "solution = solve_puzzle(puzzle)\n",
    "if solution:\n",
    "    print(\"Решение найдено:\", solution)\n",
    "else:\n",
    "    print(\"Решение отсутствует.\")\n"
   ]
  },
  {
   "cell_type": "markdown",
   "id": "arbitrary-amazon",
   "metadata": {
    "id": "arbitrary-amazon"
   },
   "source": [
    "### Вывод"
   ]
  },
  {
   "cell_type": "markdown",
   "id": "71bc58bf",
   "metadata": {
    "id": "71bc58bf"
   },
   "source": [
    "В ходе выполнения данной лабораторной работы были рассмотрены алгоритмы для обработки информации. После чего сделаны 2 алгоритма для поисков подстрок, а также алгоритм, проверяющий является ли конкретное расположение символов решаемым."
   ]
  }
 ],
 "metadata": {
  "colab": {
   "provenance": []
  },
  "kernelspec": {
   "display_name": "Python 3",
   "language": "python",
   "name": "python3"
  },
  "language_info": {
   "codemirror_mode": {
    "name": "ipython",
    "version": 3
   },
   "file_extension": ".py",
   "mimetype": "text/x-python",
   "name": "python",
   "nbconvert_exporter": "python",
   "pygments_lexer": "ipython3",
   "version": "3.11.1"
  }
 },
 "nbformat": 4,
 "nbformat_minor": 5
}
