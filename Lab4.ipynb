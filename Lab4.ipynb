{
 "cells": [
  {
   "cell_type": "markdown",
   "metadata": {},
   "source": [
    "# Лабораторная работа 4. \n",
    "# Методы поиска. "
   ]
  },
  {
   "cell_type": "markdown",
   "metadata": {},
   "source": [
    "## Выполнил студент группы БПИ-2303 Гавриленко Владислав\n",
    "***"
   ]
  },
  {
   "cell_type": "markdown",
   "metadata": {},
   "source": [
    "Задание: "
   ]
  },
  {
   "cell_type": "markdown",
   "metadata": {},
   "source": [
    "Реализовать методы поиска в соответствии с заданием. Организовать генерацию начального набора случайных данных. Для всех вариантов добавить реализацию добавления, поиска и удаления элементов. Оценить время работы каждого алгоритма поиска и сравнить его со временем работы стандартной функции поиска, используемой в выбранном языке программирования."
   ]
  },
  {
   "cell_type": "markdown",
   "metadata": {},
   "source": [
    "Задание №1:\n",
    "1) Бинарный поиск\t\n",
    "2) Бинарное дерево\t\n",
    "3) Фибоначчиев\t\n",
    "4) Интерполяционный\n"
   ]
  },
  {
   "cell_type": "markdown",
   "metadata": {},
   "source": [
    "1. Бинарный поиск"
   ]
  },
  {
   "cell_type": "code",
   "execution_count": null,
   "metadata": {},
   "outputs": [
    {
     "name": "stdout",
     "output_type": "stream",
     "text": [
      "Искомый элемент 755 найден в индексе 78 за 0.000040 секунд\n"
     ]
    }
   ],
   "source": [
    "import time\n",
    "import random\n",
    "\n",
    "def binary_search(arr, target):\n",
    "    left, right = 0, len(arr) - 1\n",
    "    while left <= right:\n",
    "        mid = (left + right) // 2\n",
    "        if arr[mid] == target:\n",
    "            return mid\n",
    "        elif arr[mid] < target:\n",
    "            left = mid + 1\n",
    "        else:\n",
    "            right = mid - 1\n",
    "    return -1  \n",
    "\n",
    "arr = sorted(random.sample(range(1, 1000), 100))\n",
    "target = random.choice(arr)\n",
    "\n",
    "start_time = time.time()\n",
    "index = binary_search(arr, target)\n",
    "end_time = time.time()\n",
    "\n",
    "print(f\"Искомый элемент {target} найден в индексе {index} за {end_time - start_time:.6f} секунд\")\n"
   ]
  },
  {
   "cell_type": "markdown",
   "metadata": {},
   "source": [
    "2. Бинарное дерево"
   ]
  },
  {
   "cell_type": "code",
   "execution_count": null,
   "metadata": {},
   "outputs": [
    {
     "name": "stdout",
     "output_type": "stream",
     "text": [
      "Элемент 846 найден в BST за 0.000034 секунд\n"
     ]
    }
   ],
   "source": [
    "class Node:\n",
    "    def __init__(self, key):\n",
    "        self.left = None\n",
    "        self.right = None\n",
    "        self.value = key\n",
    "\n",
    "class BinarySearchTree:\n",
    "    def __init__(self):\n",
    "        self.root = None\n",
    "\n",
    "    def insert(self, key):\n",
    "        if self.root is None:\n",
    "            self.root = Node(key)\n",
    "        else:\n",
    "            self._insert_recursive(self.root, key)\n",
    "\n",
    "    def _insert_recursive(self, node, key):\n",
    "        if key < node.value:\n",
    "            if node.left is None:\n",
    "                node.left = Node(key)\n",
    "            else:\n",
    "                self._insert_recursive(node.left, key)\n",
    "        else:\n",
    "            if node.right is None:\n",
    "                node.right = Node(key)\n",
    "            else:\n",
    "                self._insert_recursive(node.right, key)\n",
    "\n",
    "    def search(self, key):\n",
    "        return self._search_recursive(self.root, key)\n",
    "\n",
    "    def _search_recursive(self, node, key):\n",
    "        if node is None or node.value == key:\n",
    "            return node is not None\n",
    "        if key < node.value:\n",
    "            return self._search_recursive(node.left, key)\n",
    "        return self._search_recursive(node.right, key)\n",
    "\n",
    "bst = BinarySearchTree()\n",
    "numbers = random.sample(range(1, 1000), 100)\n",
    "for num in numbers:\n",
    "    bst.insert(num)\n",
    "\n",
    "target = random.choice(numbers)\n",
    "\n",
    "start_time = time.time()\n",
    "found = bst.search(target)\n",
    "end_time = time.time()\n",
    "\n",
    "print(f\"Элемент {target} {'найден' if found else 'не найден'} в BST за {end_time - start_time:.6f} секунд\")\n"
   ]
  },
  {
   "cell_type": "markdown",
   "metadata": {},
   "source": [
    "3. Финабоччиев поиск"
   ]
  },
  {
   "cell_type": "code",
   "execution_count": 5,
   "metadata": {},
   "outputs": [
    {
     "name": "stdout",
     "output_type": "stream",
     "text": [
      "Фибоначчиев поиск: элемент 269 найден в индексе 20 за 0.000044 секунд\n"
     ]
    }
   ],
   "source": [
    "import time\n",
    "import random\n",
    "\n",
    "def fibonacci_search(arr, target):\n",
    "    size = len(arr)\n",
    "    fib_m2, fib_m1 = 0, 1  \n",
    "    fib_m = fib_m1 + fib_m2  \n",
    "\n",
    "    while fib_m < size:\n",
    "        fib_m2, fib_m1 = fib_m1, fib_m\n",
    "        fib_m = fib_m1 + fib_m2\n",
    "\n",
    "    offset = -1\n",
    "\n",
    "    while fib_m > 1:\n",
    "        i = min(offset + fib_m2, size - 1)  \n",
    "        \n",
    "        if arr[i] < target:\n",
    "            fib_m, fib_m1, fib_m2 = fib_m1, fib_m2, fib_m1 - fib_m2\n",
    "            offset = i\n",
    "        elif arr[i] > target:\n",
    "            fib_m, fib_m1, fib_m2 = fib_m2, fib_m1 - fib_m2, fib_m - fib_m1\n",
    "        else:\n",
    "            return i  \n",
    "\n",
    "    if fib_m1 and offset + 1 < size and arr[offset + 1] == target:\n",
    "        return offset + 1\n",
    "\n",
    "    return -1  \n",
    "\n",
    "arr = sorted(random.sample(range(1, 1000), 100))\n",
    "target = random.choice(arr)\n",
    "\n",
    "start_time = time.time()\n",
    "index = fibonacci_search(arr, target)\n",
    "end_time = time.time()\n",
    "\n",
    "print(f\"Фибоначчиев поиск: элемент {target} {'найден в индексе ' + str(index) if index != -1 else 'не найден'} за {end_time - start_time:.6f} секунд\")\n"
   ]
  },
  {
   "cell_type": "markdown",
   "metadata": {},
   "source": [
    "4. Интерполяционный поиск"
   ]
  },
  {
   "cell_type": "code",
   "execution_count": null,
   "metadata": {},
   "outputs": [
    {
     "name": "stdout",
     "output_type": "stream",
     "text": [
      "Интерполяционный поиск: элемент 194 найден за 0.000051 секунд\n"
     ]
    }
   ],
   "source": [
    "def interpolation_search(arr, target):\n",
    "    left, right = 0, len(arr) - 1\n",
    "\n",
    "    while left <= right and target >= arr[left] and target <= arr[right]:\n",
    "        pos = left + ((right - left) // (arr[right] - arr[left] + 1)) * (target - arr[left])\n",
    "\n",
    "        if arr[pos] == target:\n",
    "            return pos\n",
    "        if arr[pos] < target:\n",
    "            left = pos + 1\n",
    "        else:\n",
    "            right = pos - 1\n",
    "\n",
    "    return -1\n",
    "\n",
    "arr = sorted(random.sample(range(1, 1000), 100))\n",
    "target = random.choice(arr)\n",
    "\n",
    "start_time = time.time()\n",
    "index = interpolation_search(arr, target)\n",
    "end_time = time.time()\n",
    "\n",
    "print(f\"Интерполяционный поиск: элемент {target} {'найден' if index != -1 else 'не найден'} за {end_time - start_time:.6f} секунд\")\n"
   ]
  },
  {
   "cell_type": "markdown",
   "metadata": {},
   "source": [
    "Задание №2:\n",
    "1) Простое рехэширование\n",
    "2) Рехэширование с помощью псевдослучайных чисел\n",
    "3) Метод цепочек\n",
    "\n"
   ]
  },
  {
   "cell_type": "markdown",
   "metadata": {},
   "source": [
    "1. Простое рехеширование"
   ]
  },
  {
   "cell_type": "code",
   "execution_count": null,
   "metadata": {},
   "outputs": [
    {
     "name": "stdout",
     "output_type": "stream",
     "text": [
      "Поиск 15: Hello\n",
      "Удаление 25: True\n"
     ]
    }
   ],
   "source": [
    "class LinearProbingHashTable:\n",
    "    def __init__(self, size):\n",
    "        self.size = size\n",
    "        self.table = [None] * size\n",
    "\n",
    "    def hash(self, key):\n",
    "        return key % self.size\n",
    "\n",
    "    def insert(self, key, value):\n",
    "        index = self.hash(key)\n",
    "        while self.table[index] is not None:\n",
    "            index = (index + 1) % self.size\n",
    "        self.table[index] = (key, value)\n",
    "\n",
    "    def search(self, key):\n",
    "        index = self.hash(key)\n",
    "        while self.table[index] is not None:\n",
    "            if self.table[index][0] == key:\n",
    "                return self.table[index][1]\n",
    "            index = (index + 1) % self.size\n",
    "        return None\n",
    "\n",
    "    def delete(self, key):\n",
    "        index = self.hash(key)\n",
    "        while self.table[index] is not None:\n",
    "            if self.table[index][0] == key:\n",
    "                self.table[index] = None\n",
    "                return True\n",
    "            index = (index + 1) % self.size\n",
    "        return False\n",
    "\n",
    "hash_table = LinearProbingHashTable(10)\n",
    "hash_table.insert(15, \"Hello\")\n",
    "hash_table.insert(25, \"World\")\n",
    "\n",
    "print(\"Поиск 15:\", hash_table.search(15))  \n",
    "print(\"Удаление 25:\", hash_table.delete(25))  \n"
   ]
  },
  {
   "cell_type": "markdown",
   "metadata": {},
   "source": [
    "2. Рехэширование с помощью псевдослучайных чисел"
   ]
  },
  {
   "cell_type": "code",
   "execution_count": 6,
   "metadata": {},
   "outputs": [
    {
     "name": "stdout",
     "output_type": "stream",
     "text": [
      "Поиск 15: Data\n",
      "Удаление 15: True\n",
      "Поиск 15 после удаления: None\n"
     ]
    }
   ],
   "source": [
    "import random\n",
    "\n",
    "class RandomProbingHashTable:\n",
    "    def __init__(self, size):\n",
    "        self.size = size\n",
    "        self.table = [None] * size\n",
    "        self.steps = {}  \n",
    "    def hash(self, key):\n",
    "        return key % self.size\n",
    "\n",
    "    def insert(self, key, value):\n",
    "        index = self.hash(key)\n",
    "        \n",
    "        if key not in self.steps:\n",
    "            self.steps[key] = random.randint(1, self.size - 1)\n",
    "        step = self.steps[key]\n",
    "\n",
    "        while self.table[index] is not None:\n",
    "            index = (index + step) % self.size  \n",
    "        self.table[index] = (key, value)\n",
    "\n",
    "    def search(self, key):\n",
    "        index = self.hash(key)\n",
    "        \n",
    "        step = self.steps.get(key, 1)  \n",
    "\n",
    "        while self.table[index] is not None:\n",
    "            if self.table[index][0] == key:\n",
    "                return self.table[index][1]\n",
    "            index = (index + step) % self.size \n",
    "        return None  \n",
    "\n",
    "    def delete(self, key):\n",
    "        index = self.hash(key)\n",
    "        \n",
    "        step = self.steps.get(key, 1)  \n",
    "\n",
    "        while self.table[index] is not None:\n",
    "            if self.table[index][0] == key:\n",
    "                self.table[index] = None\n",
    "                del self.steps[key]  \n",
    "                return True\n",
    "            index = (index + step) % self.size\n",
    "        return False  \n",
    "\n",
    "rand_hash_table = RandomProbingHashTable(10)\n",
    "rand_hash_table.insert(15, \"Data\")\n",
    "print(\"Поиск 15:\", rand_hash_table.search(15))  \n",
    "print(\"Удаление 15:\", rand_hash_table.delete(15))  \n",
    "print(\"Поиск 15 после удаления:\", rand_hash_table.search(15)) \n"
   ]
  },
  {
   "cell_type": "markdown",
   "metadata": {},
   "source": [
    "3. Метод цепочек"
   ]
  },
  {
   "cell_type": "code",
   "execution_count": null,
   "metadata": {},
   "outputs": [
    {
     "name": "stdout",
     "output_type": "stream",
     "text": [
      "Поиск 15: Data\n"
     ]
    }
   ],
   "source": [
    "class ChainingHashTable:\n",
    "    def __init__(self, size):\n",
    "        self.size = size\n",
    "        self.table = [[] for _ in range(size)]\n",
    "\n",
    "    def hash(self, key):\n",
    "        return key % self.size\n",
    "\n",
    "    def insert(self, key, value):\n",
    "        index = self.hash(key)\n",
    "        self.table[index].append((key, value))\n",
    "\n",
    "    def search(self, key):\n",
    "        index = self.hash(key)\n",
    "        for k, v in self.table[index]:\n",
    "            if k == key:\n",
    "                return v\n",
    "        return None\n",
    "\n",
    "    def delete(self, key):\n",
    "        index = self.hash(key)\n",
    "        for i, (k, v) in enumerate(self.table[index]):\n",
    "            if k == key:\n",
    "                del self.table[index][i]\n",
    "                return True\n",
    "        return False\n",
    "\n",
    "chain_hash_table = ChainingHashTable(10)\n",
    "chain_hash_table.insert(15, \"Data\")\n",
    "print(\"Поиск 15:\", chain_hash_table.search(15)) \n"
   ]
  },
  {
   "cell_type": "markdown",
   "metadata": {},
   "source": [
    "Задание № 3:\n",
    "\n",
    "Расставить на стандартной 64-клеточной шахматной доске 8 ферзей так, чтобы ни один из них не находился под боем другого». Подразумевается, что ферзь бьёт все клетки, расположенные по вертикалям, горизонталям и обеим диагоналям\n",
    "Написать программу,  которая находит хотя бы один способ решения задач.\n",
    "\n"
   ]
  },
  {
   "cell_type": "code",
   "execution_count": 2,
   "metadata": {},
   "outputs": [
    {
     "name": "stdout",
     "output_type": "stream",
     "text": [
      "  0 1 2 3 4 5 6 7\n",
      "0 Q . . . . . . .\n",
      "1 . . . . Q . . .\n",
      "2 . . . . . . . Q\n",
      "3 . . . . . Q . .\n",
      "4 . . Q . . . . .\n",
      "5 . . . . . . Q .\n",
      "6 . Q . . . . . .\n",
      "7 . . . Q . . . .\n",
      "--------------------\n"
     ]
    },
    {
     "data": {
      "text/plain": [
       "True"
      ]
     },
     "execution_count": 2,
     "metadata": {},
     "output_type": "execute_result"
    }
   ],
   "source": [
    "def is_safe(board, row, col):\n",
    "    for i in range(row):\n",
    "        if board[i] == col or \\\n",
    "           board[i] - i == col - row or \\\n",
    "           board[i] + i == col + row:\n",
    "            return False\n",
    "    return True\n",
    "\n",
    "def print_board(board):\n",
    "    print(\"  \" + \" \".join(str(i) for i in range(8))) \n",
    "    for row in range(8):\n",
    "        row_line = []\n",
    "        for col in range(8):\n",
    "            if board[row] == col:\n",
    "                row_line.append(\"Q\")\n",
    "            else:\n",
    "                row_line.append(\".\")\n",
    "        print(f\"{row} \" + \" \".join(row_line))\n",
    "    print(\"-\" * 20)\n",
    "\n",
    "def solve_n_queens(n, row=0, board=[]):\n",
    "    if row == n:\n",
    "        print_board(board)\n",
    "        return True\n",
    "    for col in range(n):\n",
    "        if is_safe(board, row, col):\n",
    "            board.append(col)\n",
    "            if solve_n_queens(n, row + 1, board):\n",
    "                return True  \n",
    "            board.pop()\n",
    "    return False\n",
    "\n",
    "solve_n_queens(8)\n"
   ]
  }
 ],
 "metadata": {
  "kernelspec": {
   "display_name": "Python 3",
   "language": "python",
   "name": "python3"
  },
  "language_info": {
   "codemirror_mode": {
    "name": "ipython",
    "version": 3
   },
   "file_extension": ".py",
   "mimetype": "text/x-python",
   "name": "python",
   "nbconvert_exporter": "python",
   "pygments_lexer": "ipython3",
   "version": "3.11.1"
  }
 },
 "nbformat": 4,
 "nbformat_minor": 2
}
