{
 "cells": [
  {
   "cell_type": "markdown",
   "id": "fifteen-sailing",
   "metadata": {
    "id": "fifteen-sailing"
   },
   "source": [
    "# Лабораторная работа №2\n",
    "## Выполнил студент группы БПИ-2303 Гавриленко Владислав"
   ]
  },
  {
   "cell_type": "markdown",
   "id": "arctic-stocks",
   "metadata": {
    "id": "arctic-stocks"
   },
   "source": [
    "Реализовать следующие структуры данных:\n",
    "  \n",
    "● <b> Стек (stack): </b>  \n",
    "Операции для стека:\n",
    "<i> инициализация, проверка на пустоту, добавление нового элемента в начало, извлечение элемента из начала;  </i>  \n",
    "  \n",
    "● <b> Дек (двусторонняя очередь, deque):  </b>  \n",
    "Операции для дека:\n",
    "<i> инициализация, проверка на пустоту, добавление нового элемента в начало, добавление нового элемента в конец, извлечение элемента из начала, извлечение элемента из конца. </i>  \n",
    "  \n",
    "<i> Разработать программу обработки данных, содержащихся в заранее подготовленном txt-файле, в соответствии с заданиями, применив указанную в задании структуру данных. Результат работы программы вывести на экран и сохранить в отдельном txt-файле. </i>"
   ]
  },
  {
   "cell_type": "markdown",
   "id": "5d7edb08",
   "metadata": {
    "id": "5d7edb08",
    "scrolled": true
   },
   "source": [
    "### Задание №1\n",
    "Отсортировать строки файла, содержащие названия книг, в алфавитном порядке с использованием двух деков."
   ]
  },
  {
   "cell_type": "code",
   "execution_count": null,
   "id": "17702ade",
   "metadata": {
    "id": "17702ade"
   },
   "outputs": [
    {
     "name": "stdout",
     "output_type": "stream",
     "text": [
      "Отсортированные строки:\n",
      "1984\n",
      "Анна Каренина\n",
      "Война и мир\n",
      "Гарри Поттер\n",
      "Идиот\n",
      "Мастер и Маргарита\n",
      "Отцы и дети\n",
      "Преступление и наказание\n",
      "Фауст\n",
      "Чума\n"
     ]
    }
   ],
   "source": [
    "from collections import deque\n",
    "\n",
    "with open(\"zad1.txt\", \"r\", encoding=\"utf-8\") as file:\n",
    "    lines = file.readlines()\n",
    "\n",
    "deck_1 = deque(lines[:len(lines)//2])\n",
    "deck_2 = deque(lines[len(lines)//2:])\n",
    "\n",
    "deck_1 = deque(sorted(deck_1))\n",
    "deck_2 = deque(sorted(deck_2))\n",
    "\n",
    "sorted_lines = list(deck_1) + list(deck_2)\n",
    "sorted_lines = sorted(sorted_lines)\n",
    "\n",
    "with open(\"zad1_result.txt\", \"w\", encoding=\"utf-8\") as file:\n",
    "    file.writelines(sorted_lines)\n",
    "\n",
    "print(\"Отсортированные строки:\")\n",
    "for line in sorted_lines:\n",
    "    print(line.strip())\n"
   ]
  },
  {
   "cell_type": "markdown",
   "id": "49fbd2a0",
   "metadata": {
    "id": "49fbd2a0"
   },
   "source": [
    "### Задание №2\n",
    "Дек содержит последовательность символов для шифровки сообщений. Дан текстовый файл, содержащий зашифрованное сообщение. Пользуясь деком, расшифровать текст.\n",
    "Известно, что при шифровке каждый символ сообщения заменялся следующим за ним в деке по часовой стрелке через один."
   ]
  },
  {
   "cell_type": "code",
   "execution_count": 1,
   "id": "81cab7a8",
   "metadata": {
    "id": "81cab7a8"
   },
   "outputs": [
    {
     "name": "stdout",
     "output_type": "stream",
     "text": [
      "Зашифрованное сообщение: ifmmp\n",
      "Расшифрованное сообщение: hello\n"
     ]
    }
   ],
   "source": [
    "from collections import deque\n",
    "\n",
    "def encrypt_message(plain_text):\n",
    "    encryption_deque = deque(\"ABCDEFGHIJKLMNOPQRSTUVWXYZabcdefghijklmnopqrstuvwxyz\")\n",
    "    encrypted_message = []\n",
    "\n",
    "    for char in plain_text:\n",
    "        if char in encryption_deque:\n",
    "            index = encryption_deque.index(char)\n",
    "            new_index = (index + 1) % len(encryption_deque)\n",
    "            encrypted_message.append(encryption_deque[new_index])\n",
    "        else:\n",
    "            encrypted_message.append(char)\n",
    "\n",
    "    return \"\".join(encrypted_message)\n",
    "\n",
    "def decrypt_message(file_name):\n",
    "    encryption_deque = deque(\"ABCDEFGHIJKLMNOPQRSTUVWXYZabcdefghijklmnopqrstuvwxyz\")\n",
    "    decrypted_message = []\n",
    "    with open(file_name, \"r\", encoding=\"utf-8\") as file:\n",
    "        encrypted_text = file.read().strip()\n",
    "\n",
    "    for char in encrypted_text:\n",
    "        if char in encryption_deque:\n",
    "            index = encryption_deque.index(char)\n",
    "            new_index = (index - 1) % len(encryption_deque)\n",
    "            decrypted_message.append(encryption_deque[new_index])\n",
    "        else:\n",
    "            decrypted_message.append(char)\n",
    "\n",
    "    result = \"\".join(decrypted_message)\n",
    "    print(\"Расшифрованное сообщение:\", result)\n",
    "\n",
    "    with open(\"zad2_result.txt\", \"w\", encoding=\"utf-8\") as file:\n",
    "        file.write(result)\n",
    "\n",
    "plain_text = \"hello\"\n",
    "encrypted_text = encrypt_message(plain_text)\n",
    "print(f\"Зашифрованное сообщение: {encrypted_text}\")\n",
    "\n",
    "with open(\"zad2.txt\", \"w\", encoding=\"utf-8\") as file:\n",
    "    file.write(encrypted_text)\n",
    "\n",
    "decrypt_message(\"zad2.txt\")\n"
   ]
  },
  {
   "cell_type": "markdown",
   "id": "c0894f47",
   "metadata": {
    "id": "c0894f47"
   },
   "source": [
    "### Задание №3\n",
    "Даны три стержня и n дисков различного размера. Диски можно надевать на стержни, образуя из них башни. Перенести n дисков со стержня А на стержень С, сохранив их первоначальный порядок. При переносе дисков необходимо соблюдать следующие правила:\n",
    "- на каждом шаге со стержня на стержень переносить только один диск;\n",
    "- диск нельзя помещать на диск меньшего размера;\n",
    "- для промежуточного хранения можно использовать стержень В.\n",
    "Реализовать алгоритм, используя три стека вместо стержней А, В, С. Информация о дисках хранится в исходном файле."
   ]
  },
  {
   "cell_type": "code",
   "execution_count": null,
   "id": "9e91a9d4",
   "metadata": {
    "id": "9e91a9d4"
   },
   "outputs": [
    {
     "name": "stdout",
     "output_type": "stream",
     "text": [
      "Переместить диск 1 с A на C\n",
      "Переместить диск 2 с A на B\n",
      "Переместить диск 1 с C на B\n",
      "Переместить диск 3 с A на C\n",
      "Переместить диск 1 с B на A\n",
      "Переместить диск 2 с B на C\n",
      "Переместить диск 1 с A на C\n"
     ]
    }
   ],
   "source": [
    "def hanoi(n, source, target, auxiliary, result):\n",
    "    if n == 1:\n",
    "        result.append(f\"Переместить диск {n} с {source} на {target}\")\n",
    "    else:\n",
    "        hanoi(n - 1, source, auxiliary, target, result)\n",
    "        result.append(f\"Переместить диск {n} с {source} на {target}\")\n",
    "        hanoi(n - 1, auxiliary, target, source, result)\n",
    "\n",
    "with open(\"zad3.txt\", \"r\") as file:\n",
    "    n = int(file.read().strip())\n",
    "\n",
    "source = \"A\"\n",
    "target = \"C\"\n",
    "auxiliary = \"B\"\n",
    "result = []\n",
    "hanoi(n, source, target, auxiliary, result)\n",
    "\n",
    "for step in result:\n",
    "    print(step)\n",
    "\n",
    "with open(\"zad3_result.txt\", \"w\") as file:\n",
    "    for step in result:\n",
    "        file.write(step + \"\\n\")\n"
   ]
  },
  {
   "cell_type": "markdown",
   "id": "e5b0be17",
   "metadata": {
    "id": "e5b0be17"
   },
   "source": [
    "### Задание №4\n",
    "Дан текстовый файл с программой на алгоритмическом языке. За один просмотр файла проверить баланс круглых скобок в тексте, используя стек."
   ]
  },
  {
   "cell_type": "code",
   "execution_count": null,
   "id": "5b1df60a",
   "metadata": {
    "id": "5b1df60a"
   },
   "outputs": [
    {
     "name": "stdout",
     "output_type": "stream",
     "text": [
      "Баланс круглых скобок: Сбалансировано\n"
     ]
    }
   ],
   "source": [
    "def check_parentheses_balance(file_name):\n",
    "    stack = []\n",
    "    with open(file_name, \"r\", encoding=\"utf-8\") as file:\n",
    "        for line in file:\n",
    "            for char in line:\n",
    "                if char == \"(\":\n",
    "                    stack.append(char)\n",
    "                elif char == \")\":\n",
    "                    if not stack:\n",
    "                        return False\n",
    "                    stack.pop()\n",
    "    return len(stack) == 0\n",
    "\n",
    "is_balanced = check_parentheses_balance(\"zad4.txt\")\n",
    "print(\"Баланс круглых скобок:\", \"Сбалансировано\" if is_balanced else \"Не сбалансировано\")\n",
    "\n",
    "with open(\"zad4_result.txt\", \"w\") as file:\n",
    "    file.write(\"Сбалансировано\" if is_balanced else \"Не сбалансировано\")\n"
   ]
  },
  {
   "cell_type": "markdown",
   "id": "c44cdd6b",
   "metadata": {
    "id": "c44cdd6b"
   },
   "source": [
    "### Задание №5\n",
    "Дан текстовый файл с программой на алгоритмическом языке. За один просмотр файла проверить баланс квадратных скобок в тексте, используя дек."
   ]
  },
  {
   "cell_type": "code",
   "execution_count": null,
   "id": "36b8f400",
   "metadata": {
    "id": "36b8f400"
   },
   "outputs": [
    {
     "name": "stdout",
     "output_type": "stream",
     "text": [
      "Баланс квадратных скобок: Сбалансировано\n"
     ]
    }
   ],
   "source": [
    "from collections import deque\n",
    "\n",
    "def check_square_brackets_balance(file_name):\n",
    "    dq = deque()\n",
    "    with open(file_name, \"r\", encoding=\"utf-8\") as file:\n",
    "        for line in file:\n",
    "            for char in line:\n",
    "                if char == \"[\":\n",
    "                    dq.append(char)\n",
    "                elif char == \"]\":\n",
    "                    if not dq:\n",
    "                        return False\n",
    "                    dq.pop()\n",
    "    return len(dq) == 0\n",
    "\n",
    "is_balanced = check_square_brackets_balance(\"zad5.txt\")\n",
    "print(\"Баланс квадратных скобок:\", \"Сбалансировано\" if is_balanced else \"Не сбалансировано\")\n",
    "\n",
    "with open(\"zad5_result.txt\", \"w\") as file:\n",
    "    file.write(\"Сбалансировано\" if is_balanced else \"Не сбалансировано\")\n"
   ]
  },
  {
   "cell_type": "markdown",
   "id": "59d13dc7",
   "metadata": {
    "id": "59d13dc7"
   },
   "source": [
    "### Задание №6\n",
    "Дан файл из символов. Используя стек, за один просмотр файла напечатать сначала все цифры, затем все буквы, и, наконец, все остальные символы, сохраняя исходный порядок в каждой группе символов."
   ]
  },
  {
   "cell_type": "code",
   "execution_count": null,
   "id": "297e36c2",
   "metadata": {
    "id": "297e36c2"
   },
   "outputs": [
    {
     "name": "stdout",
     "output_type": "stream",
     "text": [
      "Цифры: 123456\n",
      "Буквы: abcdef\n",
      "Прочие символы: !@#\n",
      "\n"
     ]
    }
   ],
   "source": [
    "def group_characters_by_type(file_name):\n",
    "    digits = []\n",
    "    letters = []\n",
    "    others = []\n",
    "    \n",
    "    with open(file_name, \"r\", encoding=\"utf-8\") as file:\n",
    "        for line in file:\n",
    "            for char in line:\n",
    "                if char.isdigit():\n",
    "                    digits.append(char)\n",
    "                elif char.isalpha():\n",
    "                    letters.append(char)\n",
    "                else:\n",
    "                    others.append(char)\n",
    "    \n",
    "    print(\"Цифры:\", \"\".join(digits))\n",
    "    print(\"Буквы:\", \"\".join(letters))\n",
    "    print(\"Прочие символы:\", \"\".join(others))\n",
    "    \n",
    "    with open(\"zad6_result.txt\", \"w\", encoding=\"utf-8\") as file:\n",
    "        file.write(\"Цифры: \" + \"\".join(digits) + \"\\n\")\n",
    "        file.write(\"Буквы: \" + \"\".join(letters) + \"\\n\")\n",
    "        file.write(\"Прочие символы: \" + \"\".join(others) + \"\\n\")\n",
    "\n",
    "group_characters_by_type(\"zad6.txt\")\n"
   ]
  },
  {
   "cell_type": "markdown",
   "id": "973f68bd",
   "metadata": {
    "id": "973f68bd"
   },
   "source": [
    "### Задание №7\n",
    "Дан файл из целых чисел. Используя дек, за один просмотр файла напечатать сначала все отрицательные числа, затем все положительные числа, сохраняя исходный порядок в каждой группе."
   ]
  },
  {
   "cell_type": "code",
   "execution_count": null,
   "id": "c56fad66",
   "metadata": {
    "id": "c56fad66"
   },
   "outputs": [
    {
     "name": "stdout",
     "output_type": "stream",
     "text": [
      "Отрицательные числа: [-5, -3, -2]\n",
      "Положительные числа: [10, 8, 7, 0, 4]\n"
     ]
    }
   ],
   "source": [
    "from collections import deque\n",
    "\n",
    "def group_numbers(file_name):\n",
    "    negative_numbers = deque()\n",
    "    positive_numbers = deque()\n",
    "    \n",
    "    with open(file_name, \"r\", encoding=\"utf-8\") as file:\n",
    "        for line in file:\n",
    "            for num in line.split():\n",
    "                num = int(num)\n",
    "                if num < 0:\n",
    "                    negative_numbers.append(num)\n",
    "                else:\n",
    "                    positive_numbers.append(num)\n",
    "    \n",
    "    print(\"Отрицательные числа:\", list(negative_numbers))\n",
    "    print(\"Положительные числа:\", list(positive_numbers))\n",
    "    \n",
    "    with open(\"zad7_result.txt\", \"w\", encoding=\"utf-8\") as file:\n",
    "        file.write(\"Отрицательные числа: \" + \" \".join(map(str, negative_numbers)) + \"\\n\")\n",
    "        file.write(\"Положительные числа: \" + \" \".join(map(str, positive_numbers)) + \"\\n\")\n",
    "\n",
    "group_numbers(\"zad7.txt\")\n"
   ]
  },
  {
   "cell_type": "markdown",
   "id": "b9228191",
   "metadata": {
    "id": "b9228191"
   },
   "source": [
    "### Задание №8\n",
    "Дан текстовый файл. Используя стек, сформировать новый текстовый файл, содержащий строки исходного файла, записанные в обратном порядке: первая строка становится последней, вторая – предпоследней и т.д."
   ]
  },
  {
   "cell_type": "code",
   "execution_count": null,
   "id": "981fbdfe",
   "metadata": {
    "id": "981fbdfe"
   },
   "outputs": [
    {
     "name": "stdout",
     "output_type": "stream",
     "text": [
      "Перевернутые строки:\n",
      "Строка 4\n",
      "Строка 3\n",
      "Строка 2\n",
      "Строка 1\n"
     ]
    }
   ],
   "source": [
    "def reverse_lines(file_name):\n",
    "    stack = []\n",
    "    \n",
    "    with open(file_name, \"r\", encoding=\"utf-8\") as file:\n",
    "        lines = file.readlines()\n",
    "        for line in lines:\n",
    "            stack.append(line.strip())\n",
    "\n",
    "    print(\"Перевернутые строки:\")\n",
    "    reversed_lines = []\n",
    "    \n",
    "    while stack:\n",
    "        line = stack.pop()\n",
    "        print(line)\n",
    "        reversed_lines.append(line)\n",
    "\n",
    "    with open(\"zad8_result.txt\", \"w\", encoding=\"utf-8\") as file:\n",
    "        file.write(\"\\n\".join(reversed_lines) + \"\\n\")\n",
    "        file.close()  \n",
    "\n",
    "reverse_lines(\"zad8.txt\")\n"
   ]
  },
  {
   "cell_type": "markdown",
   "id": "rental-jerusalem",
   "metadata": {
    "id": "rental-jerusalem"
   },
   "source": [
    "### Вывод\n"
   ]
  },
  {
   "cell_type": "markdown",
   "id": "0c2b8899",
   "metadata": {
    "id": "0c2b8899"
   },
   "source": [
    "В ходе выполнения данной лабораторной работы были написаны 8 алгоритмов обработки с использованием стека и дека для обработки текстовых файлов. Они позволяют эффективно решать задачи на сортировку, шифровку, проверку баланса скобок, группировку символов и обратный порядок строк."
   ]
  }
 ],
 "metadata": {
  "colab": {
   "provenance": [
    {
     "file_id": "1SJnopeql2j1MhzcaJ8o68KaPzPnynIeK",
     "timestamp": 1676536264821
    }
   ]
  },
  "kernelspec": {
   "display_name": "Python 3",
   "language": "python",
   "name": "python3"
  },
  "language_info": {
   "codemirror_mode": {
    "name": "ipython",
    "version": 3
   },
   "file_extension": ".py",
   "mimetype": "text/x-python",
   "name": "python",
   "nbconvert_exporter": "python",
   "pygments_lexer": "ipython3",
   "version": "3.11.1"
  }
 },
 "nbformat": 4,
 "nbformat_minor": 5
}
